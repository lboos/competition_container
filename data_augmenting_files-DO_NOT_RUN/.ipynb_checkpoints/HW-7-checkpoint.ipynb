{
 "cells": [
  {
   "cell_type": "markdown",
   "id": "6d42533c",
   "metadata": {},
   "source": [
    "# Augmenting Data\n",
    "\n",
    "Lynette Boos"
   ]
  },
  {
   "cell_type": "code",
   "execution_count": 1,
   "id": "078c41a4",
   "metadata": {},
   "outputs": [],
   "source": [
    "import nltk\n",
    "from nltk.corpus import treebank\n",
    "from statistics import mean\n",
    "\n",
    "from nltk.corpus import stopwords\n",
    "import string\n",
    "import matplotlib.pyplot as plt\n",
    "from collections import Counter\n",
    "from math import log, log10"
   ]
  },
  {
   "cell_type": "markdown",
   "id": "ce9ec167",
   "metadata": {},
   "source": [
    "As in Homework 3 I cropped each book to at most the text between '*** START OF' and '*** END'. In this case, I also cropped any producer's notes between '*** START OF' and the title so that all of the text I'm using is Mark Twain's.\n",
    "\n",
    "Reading in the raw text and counting the characters in each book..."
   ]
  },
  {
   "cell_type": "code",
   "execution_count": 2,
   "id": "b7fae1e3",
   "metadata": {},
   "outputs": [
    {
     "name": "stdout",
     "output_type": "stream",
     "text": [
      "              LENGTH \t\tBOOK\n",
      "          Nonfiction \t \n",
      "              879939 \tA Tramp Abroad\n",
      "             1106924 \tThe Innocents Abroad\n",
      "             1079927 \tFollowing the Equator\n",
      "              944883 \tRoughing It\n",
      "              808259 \tLife on the Mississippi\n",
      "             Fiction \t \n",
      "              643604 \tA Connecituct Yankee in King Arthur's Court\n",
      "              571059 \tAdventures of Huckleberry Finn\n",
      "              392733 \tThe Adventures of Tom Sawyer\n",
      "              395902 \tThe Prince and the Pauper\n",
      "              294733 \tThe Tragedy of Pudd'nhead Wilson\n"
     ]
    }
   ],
   "source": [
    "#Autobiographies and travelogs\n",
    "with open('/Users/lynette/Desktop/Ling-582/HW3books/ATrampAbroad.txt', 'r') as myfile:\n",
    "    tAa = myfile.read()\n",
    "with open('/Users/lynette/Desktop/Ling-581/HW3books/InnocentsAbroad.txt', 'r') as myfile:\n",
    "    tIa = myfile.read()\n",
    "with open('/Users/lynette/Desktop/Ling-581/HW3books/FollowingtheEquator.txt', 'r') as myfile:\n",
    "    tFa = myfile.read()\n",
    "with open('/Users/lynette/Desktop/Ling-581/HW3books/RoughingIt.txt', 'r') as myfile:\n",
    "    tRa = myfile.read()\n",
    "with open('/Users/lynette/Desktop/Ling-581/HW3books/LifeonMS.txt', 'r') as myfile:\n",
    "    tMa = myfile.read()\n",
    "\n",
    "#Fiction and novels\n",
    "with open('/Users/lynette/Desktop/Ling-581/HW3books/CTYankee.txt', 'r') as myfile:\n",
    "    tCf = myfile.read()\n",
    "with open('/Users/lynette/Desktop/Ling-581/HW3books/HuckFinn.txt', 'r') as myfile:\n",
    "    tHf = myfile.read()\n",
    "with open('/Users/lynette/Desktop/Ling-581/HW3books/TomSawyer.txt', 'r') as myfile:\n",
    "    tTf = myfile.read()\n",
    "with open('/Users/lynette/Desktop/Ling-581/HW3books/PrinceandPauper.txt', 'r') as myfile:\n",
    "    tPf = myfile.read()\n",
    "with open('/Users/lynette/Desktop/Ling-581/HW3books/PuddnheadWilson.txt', 'r') as myfile:\n",
    "    tWf = myfile.read()\n",
    "\n",
    "table_data = [\n",
    "    ['LENGTH', '\\tBOOK'],\n",
    "    ['Nonfiction', ' '],\n",
    "    [len(tAa), 'A Tramp Abroad'], \n",
    "    [len(tIa), 'The Innocents Abroad'],\n",
    "    [len(tFa), 'Following the Equator'],\n",
    "    [len(tRa), 'Roughing It'],\n",
    "    [len(tMa), 'Life on the Mississippi'],\n",
    "    ['Fiction', ' '],\n",
    "    [len(tCf), \"A Connecituct Yankee in King Arthur's Court\"],\n",
    "    [len(tHf), 'Adventures of Huckleberry Finn'],\n",
    "    [len(tTf), 'The Adventures of Tom Sawyer'],\n",
    "    [len(tPf), 'The Prince and the Pauper'],\n",
    "    [len(tWf), \"The Tragedy of Pudd'nhead Wilson\"],\n",
    "]\n",
    "for row in table_data:\n",
    "    print(\"{: >20} \\t{:}\".format(*row))"
   ]
  },
  {
   "cell_type": "markdown",
   "id": "4dde34ea",
   "metadata": {},
   "source": [
    "Tokenizing and counting the tokens..."
   ]
  },
  {
   "cell_type": "code",
   "execution_count": 3,
   "id": "f122d374",
   "metadata": {},
   "outputs": [
    {
     "name": "stdout",
     "output_type": "stream",
     "text": [
      "              TOKENS \t\tBOOK\n",
      "          Nonfiction \t \n",
      "              183869 \tA Tramp Abroad\n",
      "              224203 \tThe Innocents Abroad\n",
      "              219749 \tFollowing the Equator\n",
      "              194567 \tRoughing It\n",
      "              170741 \tLife on the Mississippi\n",
      "             Fiction \t \n",
      "              139245 \tA Connecituct Yankee in King Arthur's Court\n",
      "              139819 \tAdventures of Huckleberry Finn\n",
      "               88749 \tThe Adventures of Tom Sawyer\n",
      "               85392 \tThe Prince and the Pauper\n",
      "               64918 \tThe Tragedy of Pudd'nhead Wilson\n"
     ]
    }
   ],
   "source": [
    "tokAa = nltk.word_tokenize(tAa)\n",
    "tokIa = nltk.word_tokenize(tIa)\n",
    "tokFa = nltk.word_tokenize(tFa)\n",
    "tokRa = nltk.word_tokenize(tRa)\n",
    "tokMa = nltk.word_tokenize(tMa)\n",
    "tokCf = nltk.word_tokenize(tCf)\n",
    "tokHf = nltk.word_tokenize(tHf)\n",
    "tokTf = nltk.word_tokenize(tTf)\n",
    "tokPf = nltk.word_tokenize(tPf)\n",
    "tokWf = nltk.word_tokenize(tWf)\n",
    "\n",
    "table_data = [\n",
    "    ['TOKENS', '\\tBOOK'],\n",
    "    ['Nonfiction', ' '],\n",
    "    [len(tokAa), 'A Tramp Abroad'], \n",
    "    [len(tokIa), 'The Innocents Abroad'],\n",
    "    [len(tokFa), 'Following the Equator'],\n",
    "    [len(tokRa), 'Roughing It'],\n",
    "    [len(tokMa), 'Life on the Mississippi'],\n",
    "    ['Fiction', ' '],\n",
    "    [len(tokCf), \"A Connecituct Yankee in King Arthur's Court\"],\n",
    "    [len(tokHf), 'Adventures of Huckleberry Finn'],\n",
    "    [len(tokTf), 'The Adventures of Tom Sawyer'],\n",
    "    [len(tokPf), 'The Prince and the Pauper'],\n",
    "    [len(tokWf), \"The Tragedy of Pudd'nhead Wilson\"],\n",
    "]\n",
    "for row in table_data:\n",
    "    print(\"{: >20} \\t{:}\".format(*row))"
   ]
  },
  {
   "cell_type": "markdown",
   "id": "f36bf6b9",
   "metadata": {},
   "source": [
    "Just for fun (there is no rigor here) before proceeding any further I will set aside one book from each category to use as \"test data\" later. This probably already gives me an unfair advantage, but I'll save the middle-length books from each category: Roughing It and The Adventures of Tom Sawyer. I'll continue looking at the other eight books to see if I can determine potential measures to classify Twain's fiction versus non-fiction and then see how well my classification methods work on the test data.\n",
    "\n",
    "The first difference that is evident is that the nonfiction books are quite a bit longer than the fiction, both by number of characters and number of tokens. That alone might be a crude way to categorize the books, but it's too late to use now since I've seen the \"test data\" values."
   ]
  },
  {
   "cell_type": "markdown",
   "id": "003859c7",
   "metadata": {},
   "source": [
    "Following HW 3 I'll use FreqDist() from NLTK to calculate a frequency distribution of the tokens. Also, I'm going to start including the means for each category to see how far apart their statistics are overall."
   ]
  },
  {
   "cell_type": "code",
   "execution_count": 4,
   "id": "1d261966",
   "metadata": {},
   "outputs": [
    {
     "name": "stdout",
     "output_type": "stream",
     "text": [
      "           FREQ DIST \t\tBOOK\n",
      "          Nonfiction \t \n",
      "               16738 \tA Tramp Abroad\n",
      "               17601 \tThe Innocents Abroad\n",
      "               18388 \tFollowing the Equator\n",
      "               15357 \tLife on the Mississippi\n",
      "               17021 \tmean\n",
      "             Fiction \t \n",
      "               11914 \tA Connecituct Yankee in King Arthur's Court\n",
      "                8882 \tAdventures of Huckleberry Finn\n",
      "                9335 \tThe Prince and the Pauper\n",
      "                7165 \tThe Tragedy of Pudd'nhead Wilson\n",
      "                9324 \tmean\n"
     ]
    }
   ],
   "source": [
    "freqAa = nltk.FreqDist(tokAa)\n",
    "freqIa = nltk.FreqDist(tokIa)\n",
    "freqFa = nltk.FreqDist(tokFa)\n",
    "freqMa = nltk.FreqDist(tokMa)\n",
    "freqMeana = mean([len(freqAa),len(freqIa),len(freqFa),len(freqMa)])\n",
    "freqCf = nltk.FreqDist(tokCf)\n",
    "freqHf = nltk.FreqDist(tokHf)\n",
    "freqPf = nltk.FreqDist(tokPf)\n",
    "freqWf = nltk.FreqDist(tokWf)\n",
    "freqMeanf = mean([len(freqCf),len(freqHf),len(freqPf),len(freqWf)])\n",
    "\n",
    "table_data = [\n",
    "    ['FREQ DIST', '\\tBOOK'],\n",
    "    ['Nonfiction', ' '],\n",
    "    [len(freqAa), 'A Tramp Abroad'], \n",
    "    [len(freqIa), 'The Innocents Abroad'],\n",
    "    [len(freqFa), 'Following the Equator'],\n",
    "    [len(freqMa), 'Life on the Mississippi'],\n",
    "    [freqMeana, 'mean'],\n",
    "    ['Fiction', ' '],\n",
    "    [len(freqCf), \"A Connecituct Yankee in King Arthur's Court\"],\n",
    "    [len(freqHf), 'Adventures of Huckleberry Finn'],\n",
    "    [len(freqPf), 'The Prince and the Pauper'],\n",
    "    [len(freqWf), \"The Tragedy of Pudd'nhead Wilson\"],\n",
    "    [freqMeanf, 'mean'],\n",
    "]\n",
    "for row in table_data:\n",
    "    print(\"{: >20} \\t{:}\".format(*row))"
   ]
  },
  {
   "cell_type": "markdown",
   "id": "cb92f1f8",
   "metadata": {},
   "source": [
    "The nonfiction do seem to have a much wider variety of words/tokens, but that could be simply because the books are longer. It's another data point, but let's compute the lexical diversity (# types / # tokens) of each book, as defined by HW 3."
   ]
  },
  {
   "cell_type": "code",
   "execution_count": 5,
   "id": "1e546db4",
   "metadata": {},
   "outputs": [
    {
     "name": "stdout",
     "output_type": "stream",
     "text": [
      "             LEX DIV \t\tBOOK\n",
      "          Nonfiction \t \n",
      "               9.103 \tA Tramp Abroad\n",
      "                7.85 \tThe Innocents Abroad\n",
      "               8.368 \tFollowing the Equator\n",
      "               8.994 \tLife on the Mississippi\n",
      "             8.57875 \tmean\n",
      "             Fiction \t \n",
      "               8.556 \tA Connecituct Yankee in King Arthur's Court\n",
      "               6.352 \tAdventures of Huckleberry Finn\n",
      "              10.932 \tThe Prince and the Pauper\n",
      "              11.037 \tThe Tragedy of Pudd'nhead Wilson\n",
      "             9.21925 \tmean\n"
     ]
    }
   ],
   "source": [
    "ldAa = round(len(freqAa)/len(tokAa)*100,3)\n",
    "ldIa = round(len(freqIa)/len(tokIa)*100,3)\n",
    "ldFa = round(len(freqFa)/len(tokFa)*100,3)\n",
    "ldMa = round(len(freqMa)/len(tokMa)*100,3)\n",
    "ldMeana = mean([ldAa,ldIa,ldFa, ldMa])\n",
    "ldCf = round(len(freqCf)/len(tokCf)*100,3)\n",
    "ldHf = round(len(freqHf)/len(tokHf)*100,3)\n",
    "ldPf = round(len(freqPf)/len(tokPf)*100,3)\n",
    "ldWf = round(len(freqWf)/len(tokWf)*100,3)\n",
    "ldMeanf = mean([ldCf,ldHf,ldPf, ldWf])\n",
    "\n",
    "table_data = [\n",
    "    ['LEX DIV', '\\tBOOK'],\n",
    "    ['Nonfiction', ' '],\n",
    "    [ldAa, 'A Tramp Abroad'], \n",
    "    [ldIa, 'The Innocents Abroad'],\n",
    "    [ldFa, 'Following the Equator'],\n",
    "    [ldMa, 'Life on the Mississippi'],\n",
    "        [ldMeana, 'mean'],\n",
    "    ['Fiction', ' '],\n",
    "    [ldCf, \"A Connecituct Yankee in King Arthur's Court\"],\n",
    "    [ldHf, 'Adventures of Huckleberry Finn'],\n",
    "    [ldPf, 'The Prince and the Pauper'],\n",
    "    [ldWf, \"The Tragedy of Pudd'nhead Wilson\"],\n",
    "    [ldMeanf, 'mean'],\n",
    "]\n",
    "for row in table_data:\n",
    "    print(\"{: >20} \\t{:}\".format(*row))"
   ]
  },
  {
   "cell_type": "markdown",
   "id": "6f3b7dab",
   "metadata": {},
   "source": [
    "For their length, the fiction books actually contain quite a bit of lexical diversity and in fact average even more than the nonfiction."
   ]
  },
  {
   "cell_type": "markdown",
   "id": "8daab654",
   "metadata": {},
   "source": [
    "Next I'm going to try looking at the words themselves, starting with the top 30 non-stopword, non-punctuation words in each book."
   ]
  },
  {
   "cell_type": "code",
   "execution_count": 17,
   "id": "556bd3e4",
   "metadata": {},
   "outputs": [],
   "source": [
    "NonfictionTop30 = []\n",
    "tAa_stop = [word for word in tAa.lower().split() if word not in set(stopwords.words('english'))]\n",
    "tAa_clean = [word.strip(string.punctuation+\"--\") for word in tAa_stop]\n",
    "NonfictionTop30 += nltk.FreqDist(tAa_clean).most_common(30)\n",
    "\n",
    "tIa_stop = [word for word in tIa.lower().split() if word not in set(stopwords.words('english'))]\n",
    "tIa_clean = [word.strip(string.punctuation+\"--\") for word in tIa_stop]\n",
    "NonfictionTop30 += nltk.FreqDist(tIa_clean).most_common(30)\n",
    "\n",
    "tFa_stop = [word for word in tFa.lower().split() if word not in set(stopwords.words('english'))]\n",
    "tFa_clean = [word.strip(string.punctuation+\"--\") for word in tFa_stop]\n",
    "NonfictionTop30 += nltk.FreqDist(tFa_clean).most_common(30)\n",
    "\n",
    "tMa_stop = [word for word in tMa.lower().split() if word not in set(stopwords.words('english'))]\n",
    "tMa_clean = [word.strip(string.punctuation+\"--\") for word in tMa_stop]\n",
    "NonfictionTop30 += nltk.FreqDist(tMa_clean).most_common(30)\n",
    "\n",
    "FictionTop30 = []\n",
    "\n",
    "tCf_stop = [word for word in tCf.lower().split() if word not in set(stopwords.words('english'))]\n",
    "tCf_clean = [word.strip(string.punctuation+\"--\") for word in tCf_stop]\n",
    "FictionTop30 += nltk.FreqDist(tCf_clean).most_common(30)\n",
    "\n",
    "tHf_stop = [word for word in tHf.lower().split() if word not in set(stopwords.words('english'))]\n",
    "tHf_clean = [word.strip(string.punctuation+\"--\") for word in tHf_stop]\n",
    "FictionTop30 += nltk.FreqDist(tHf_clean).most_common(30)\n",
    "\n",
    "tPf_stop = [word for word in tPf.lower().split() if word not in set(stopwords.words('english'))]\n",
    "tPf_clean = [word.strip(string.punctuation+\"--\") for word in tPf_stop]\n",
    "FictionTop30 += nltk.FreqDist(tPf_clean).most_common(30)\n",
    "\n",
    "tWf_stop = [word for word in tWf.lower().split() if word not in set(stopwords.words('english'))]\n",
    "tWf_clean = [word.strip(string.punctuation+\"--\") for word in tWf_stop]\n",
    "FictionTop30 += nltk.FreqDist(tWf_clean).most_common(30)"
   ]
  },
  {
   "cell_type": "markdown",
   "id": "6fbc02ba",
   "metadata": {},
   "source": [
    "Let's see how the frequencies look in a histogram."
   ]
  },
  {
   "cell_type": "code",
   "execution_count": 21,
   "id": "367282ac",
   "metadata": {},
   "outputs": [
    {
     "data": {
      "image/png": "[encoded data removed]",
      "text/plain": [
       "<Figure size 640x480 with 1 Axes>"
      ]
     },
     "metadata": {},
     "output_type": "display_data"
    },
    {
     "data": {
      "image/png": "[encoded data removed]",
      "text/plain": [
       "<Figure size 640x480 with 1 Axes>"
      ]
     },
     "metadata": {},
     "output_type": "display_data"
    }
   ],
   "source": [
    "NonfictionTopWords = set()\n",
    "NonfictionTopDict = {}\n",
    "\n",
    "for (word,num) in NonfictionTop30:\n",
    "    NonfictionTopWords.add(word)\n",
    "    if word in NonfictionTopDict.keys():\n",
    "        NonfictionTopDict[word] += num\n",
    "    else:\n",
    "        NonfictionTopDict[word] = num\n",
    "        \n",
    "\n",
    "plt.hist(NonfictionTopDict.values(),histtype = 'step')\n",
    "plt.title(\"Nonfiction top 30 word frequencies\")\n",
    "plt.xticks(range(1,4000,500))\n",
    "plt.show()\n",
    "\n",
    "FictionTopWords = set()\n",
    "FictionTopDict = {}\n",
    "    \n",
    "for (word,num) in FictionTop30:\n",
    "    FictionTopWords.add(word)\n",
    "    if word in FictionTopDict.keys():\n",
    "        FictionTopDict[word] += num\n",
    "    else:\n",
    "        FictionTopDict[word] = num\n",
    "        \n",
    "plt.hist(FictionTopDict.values(),histtype = 'step')\n",
    "plt.title(\"Fiction top 30 word frequencies\")\n",
    "plt.xticks(range(200,1500,200))\n",
    "plt.show()"
   ]
  },
  {
   "cell_type": "markdown",
   "id": "8934949c",
   "metadata": {},
   "source": [
    "The two histograms of top 30 word frequencies look different in some ways, but I wouldn't directly compare them since their scales are so different. At any rate, I'm not going to use their shapes to try to classify the two genres."
   ]
  },
  {
   "cell_type": "code",
   "execution_count": 8,
   "id": "039d19f4",
   "metadata": {},
   "outputs": [
    {
     "name": "stdout",
     "output_type": "stream",
     "text": [
      "52 different top 30 words across nonfiction with an average of 13.0 new words per book\n",
      "\n",
      "30 different top 30 words across fiction with an average of 7.5 new words per book\n"
     ]
    }
   ],
   "source": [
    "print(f\"{len(NonfictionTopWords)} different top 30 words across nonfiction with an average of {len(NonfictionTopWords)/4} new words per book\")\n",
    "print()\n",
    "print(f\"{len(FictionTopWords)} different top 30 words across fiction with an average of {len(FictionTopWords)/4} new words per book\")"
   ]
  },
  {
   "cell_type": "markdown",
   "id": "2f2eb1c3",
   "metadata": {},
   "source": [
    "Aha! There's some indication of wider vocabulary in the nonfiction books: more diversity in the combined top 30 lists of the books. \n",
    "\n",
    "Just out of curiousity, how much do the two lists overlap?"
   ]
  },
  {
   "cell_type": "code",
   "execution_count": 9,
   "id": "573f2187",
   "metadata": {},
   "outputs": [
    {
     "name": "stdout",
     "output_type": "stream",
     "text": [
      "17 words common to both combined top 30 lists:\n",
      " {'could', 'upon', 'one', 'two', 'it', 'would', 'now', 'man', 'old', 'time', 'well', 'got', 'him', 'said', 'made', 'good', 'know'}\n"
     ]
    }
   ],
   "source": [
    "overlap = NonfictionTopWords.intersection(FictionTopWords)\n",
    "\n",
    "print(f\"{len(overlap)} words common to both combined top 30 lists:\\n\",overlap)"
   ]
  },
  {
   "cell_type": "markdown",
   "id": "ca89902d",
   "metadata": {},
   "source": [
    "But I'm supposed to be looking for distinctions, so how do the two combined lists differ?"
   ]
  },
  {
   "cell_type": "code",
   "execution_count": 10,
   "id": "062a4d8e",
   "metadata": {},
   "outputs": [
    {
     "name": "stdout",
     "output_type": "stream",
     "text": [
      "35 words in nonfiction but not fiction top 30 lists:\n",
      " ['another', 'away', 'boat', 'came', 'city', 'day', 'every', 'feet', 'first', 'german', 'get', 'go', 'great', 'hundred', 'like', 'little', 'long', 'make', 'many', 'me', 'men', 'must', 'never', 'new', 'people', 'river', 'see', 'them', 'thing', 'three', 'us', 'water', 'way', 'went', 'years']\n",
      "\n",
      "13 words in fiction but not nonfiction top 30 lists:\n",
      " [\"ain't\", 'back', 'dat', 'de', 'driscoll', 'en', 'house', 'judge', 'tell', 'tom', 'twins', 'wilson', 'you']\n"
     ]
    }
   ],
   "source": [
    "non = sorted(NonfictionTopWords - FictionTopWords)\n",
    "print(f\"{len(non)} words in nonfiction but not fiction top 30 lists:\\n\",non)\n",
    "\n",
    "fic = sorted(FictionTopWords - NonfictionTopWords)\n",
    "print(f\"\\n{len(fic)} words in fiction but not nonfiction top 30 lists:\\n\",fic)"
   ]
  },
  {
   "cell_type": "markdown",
   "id": "1e379328",
   "metadata": {},
   "source": [
    "I suppose it makes sense that the high frequency fiction words include slang such as 'ain't' and 'dat'. Since my test fiction book is The Adventures of Tom Sawyer, it occurs to me that this measure alone might easily distinguish it from the nonfiction. I won't use this method though, since it's like cheating when the test data is not unfamiliar to me. I'll stick with statistical methods that I couldn't have predicted in advance.\n",
    "\n",
    "\n"
   ]
  },
  {
   "cell_type": "markdown",
   "id": "05f736d1",
   "metadata": {},
   "source": [
    "Now that I have a few classification options, I'm ready to try them out on the test books. The  various filters I've invented are summarized below.\n",
    "\n",
    "Frequency distribution length: (I roughly split the difference between the two means.)\n",
    "\n",
    "    over 13,000 = nonfiction\n",
    "    under 13,000 = fiction \n",
    "\n",
    "Lexical diversity: (Again, I took the middle of the two means as a cut-off.)\n",
    "\n",
    "    below 9.1 = nonfiction\n",
    "    above 9.1 = fiction\n",
    "\n",
    "Top 30 most frequent words: (This is the most ridiculous classification method, considering there are about 3 times as many words in the {nonfiction - fiction} list, so it's statistically more likely to overlap with <strong>any</strong> list of words.)\n",
    "\n",
    "    overlaps more with (nonfiction - fiction) list = nonfiction\n",
    "    overlaps more with (fiction - nonfiction) list = fiction "
   ]
  },
  {
   "cell_type": "markdown",
   "id": "2f042cf4",
   "metadata": {},
   "source": [
    "Now to calculate the values for the test books..."
   ]
  },
  {
   "cell_type": "code",
   "execution_count": 11,
   "id": "f50ccc80",
   "metadata": {},
   "outputs": [
    {
     "name": "stdout",
     "output_type": "stream",
     "text": [
      "           FREQ DIST \t\tBOOK\n",
      "               19280 \tRoughing It\n",
      "                9358 \tThe Adventures of Tom Sawyer\n"
     ]
    }
   ],
   "source": [
    "#calculate a frequency distribution of the tokens\n",
    "freqRa = nltk.FreqDist(tokRa)\n",
    "freqTf = nltk.FreqDist(tokTf)\n",
    "table_data = [\n",
    "    ['FREQ DIST', '\\tBOOK'],\n",
    "    [len(freqRa), 'Roughing It'],\n",
    "    [len(freqTf), 'The Adventures of Tom Sawyer']]\n",
    "for row in table_data:\n",
    "    print(\"{: >20} \\t{:}\".format(*row))\n"
   ]
  },
  {
   "cell_type": "markdown",
   "id": "4cf8afc9",
   "metadata": {},
   "source": [
    "The first, frequency distribution, filter correctly classifies Roughing It as nonfiction and The Adventures of Tom Sawyer as fiction."
   ]
  },
  {
   "cell_type": "code",
   "execution_count": 12,
   "id": "5ffe66ec",
   "metadata": {},
   "outputs": [
    {
     "name": "stdout",
     "output_type": "stream",
     "text": [
      "             LEX DIV \t\tBOOK\n",
      "               9.909 \tRoughing It\n",
      "              10.544 \tThe Adventures of Tom Sawyer\n"
     ]
    }
   ],
   "source": [
    "#compute lexical diversity\n",
    "ldRa = round(len(freqRa)/len(tokRa)*100,3)\n",
    "ldTf = round(len(freqTf)/len(tokTf)*100,3)\n",
    "table_data = [\n",
    "    ['LEX DIV', '\\tBOOK'],\n",
    "    [ldRa, 'Roughing It'],\n",
    "    [ldTf, 'The Adventures of Tom Sawyer']]\n",
    "for row in table_data:\n",
    "    print(\"{: >20} \\t{:}\".format(*row))"
   ]
  },
  {
   "cell_type": "markdown",
   "id": "c2d1afeb",
   "metadata": {},
   "source": [
    "The second, lexical diversity, filter incorrectly classifies both books as fiction."
   ]
  },
  {
   "cell_type": "code",
   "execution_count": 13,
   "id": "eaf9369a",
   "metadata": {},
   "outputs": [
    {
     "name": "stdout",
     "output_type": "stream",
     "text": [
      "Top 30 words by frequency in Roughing It: \n",
      "['away', 'came', 'chapter', 'could', 'day', 'every', 'feet', 'go', 'got', 'great', 'him', 'hundred', 'it', 'like', 'little', 'long', 'made', 'man', 'never', 'old', 'one', 'said', 'see', 'three', 'time', 'two', 'upon', 'us', 'went', 'would']\n",
      "\n",
      "Top 30 words by frequency in The Adventures of Tom Sawyer: \n",
      "['ain’t', 'away', 'back', 'boy', 'boys', 'came', 'come', 'could', 'don’t', 'go', 'got', 'him', 'huck', 'it', 'it’s', 'joe', 'know', 'like', 'little', 'never', 'now', 'one', 'said', 'see', 'time', 'tom', 'two', 'upon', 'went', 'would']\n"
     ]
    }
   ],
   "source": [
    "RoughTop30 = []\n",
    "tRa_stop = [word for word in tRa.lower().split() if word not in set(stopwords.words('english'))]\n",
    "tRa_clean = [word.strip(string.punctuation+\"--\") for word in tRa_stop]\n",
    "RoughTop30 += nltk.FreqDist(tRa_clean).most_common(30)\n",
    "\n",
    "RoughTopWords = set()\n",
    "\n",
    "for (word,num) in RoughTop30:\n",
    "    RoughTopWords.add(word)\n",
    "print(f\"Top 30 words by frequency in Roughing It: \\n{sorted(RoughTopWords)}\\n\")\n",
    "\n",
    "TomTop30 = []\n",
    "tTf_stop = [word for word in tTf.lower().split() if word not in set(stopwords.words('english'))]\n",
    "tTf_clean = [word.strip(string.punctuation+\"--\") for word in tTf_stop]\n",
    "TomTop30 += nltk.FreqDist(tTf_clean).most_common(30)\n",
    "\n",
    "TomTopWords = set()\n",
    "\n",
    "for (word,num) in TomTop30:\n",
    "    TomTopWords.add(word)\n",
    "    \n",
    "print(f\"Top 30 words by frequency in The Adventures of Tom Sawyer: \\n{sorted(TomTopWords)}\")"
   ]
  },
  {
   "cell_type": "markdown",
   "id": "f5021cc0",
   "metadata": {},
   "source": [
    "The Adventures of Tom Sawyer does have \"ain't\" as a top 30 word, but not \"dat\"."
   ]
  },
  {
   "cell_type": "code",
   "execution_count": 14,
   "id": "968781be",
   "metadata": {},
   "outputs": [
    {
     "name": "stdout",
     "output_type": "stream",
     "text": [
      "\n",
      "16 words overlap between Roughing It and nonfiction top 30 lists:\n",
      " ['away', 'came', 'day', 'every', 'feet', 'go', 'great', 'hundred', 'like', 'little', 'long', 'never', 'see', 'three', 'us', 'went']\n",
      "\n",
      "0 words overlap between Roughing It and fiction top 30 lists:\n",
      " []\n",
      "\n",
      "8 words overlap between The Adventures of Tom Sawyer and nonfiction top 30 lists:\n",
      " ['away', 'came', 'go', 'like', 'little', 'never', 'see', 'went']\n",
      "\n",
      "2 words overlap between The Adventures of Tom Sawyer and fiction top 30 lists:\n",
      " ['back', 'tom']\n"
     ]
    }
   ],
   "source": [
    "print(f\"\\n{len(RoughTopWords.intersection(non))} words overlap between Roughing It\"\\\n",
    "    \" and nonfiction top 30 lists:\\n\",sorted(RoughTopWords.intersection(non)))\n",
    "print(f\"\\n{len(RoughTopWords.intersection(fic))} words overlap between Roughing It\"\\\n",
    "      \" and fiction top 30 lists:\\n\",sorted(RoughTopWords.intersection(fic)))\n",
    "      \n",
    "print(f\"\\n{len(TomTopWords.intersection(non))} words overlap between The Adventures of Tom Sawyer\"\\\n",
    "    \" and nonfiction top 30 lists:\\n\",sorted(TomTopWords.intersection(non)))\n",
    "print(f\"\\n{len(TomTopWords.intersection(fic))} words overlap between The Adventures of Tom Sawyer\"\\\n",
    "      \" and fiction top 30 lists:\\n\",sorted(TomTopWords.intersection(fic)))\n"
   ]
  },
  {
   "cell_type": "markdown",
   "id": "e7a85c2d",
   "metadata": {},
   "source": [
    "The last, top 30 most frequent words, filter incorrectly classifies both book as nonfiction. Perhaps instead I should've made this filter:\n",
    "\n",
    "    any overlap with (fiction - nonfiction) list = fiction\n",
    " \n",
    "But wait. Where's 'ain't' in the overlap between the Adventures of Tom Sawyer and the fiction top 30 words?"
   ]
  },
  {
   "cell_type": "code",
   "execution_count": 15,
   "id": "b72a967d",
   "metadata": {},
   "outputs": [
    {
     "name": "stdout",
     "output_type": "stream",
     "text": [
      "['ain’t', 'away', 'back', 'boy', 'boys', 'came', 'come', 'could', 'don’t', 'go', 'got', 'him', 'huck', 'it', 'it’s', 'joe', 'know', 'like', 'little', 'never', 'now', 'one', 'said', 'see', 'time', 'tom', 'two', 'upon', 'went', 'would']\n",
      "[\"ain't\", 'back', 'dat', 'de', 'driscoll', 'en', 'house', 'judge', 'tell', 'tom', 'twins', 'wilson', 'you']\n"
     ]
    }
   ],
   "source": [
    "print(sorted(TomTopWords))\n",
    "print(sorted(fic))"
   ]
  },
  {
   "cell_type": "markdown",
   "id": "7b125621",
   "metadata": {},
   "source": [
    "It looks like in at least some of the other fiction books 'ain't' was typed with a different apostrophe than in The Adventures of Tom Sawyer."
   ]
  },
  {
   "cell_type": "code",
   "execution_count": 16,
   "id": "d34dd7fe",
   "metadata": {},
   "outputs": [
    {
     "name": "stdout",
     "output_type": "stream",
     "text": [
      "Overlap between The Adventures of Tom Sawyer and fiction top 30 ['ain’t', 'back', 'tom']\n"
     ]
    }
   ],
   "source": [
    "newfic = set(fic)\n",
    "newfic.remove(\"ain't\")\n",
    "newfic.add('ain’t')\n",
    "print(\"Overlap between The Adventures of Tom Sawyer and fiction top 30\",sorted(TomTopWords.intersection(newfic)))"
   ]
  },
  {
   "cell_type": "markdown",
   "id": "97e2626c",
   "metadata": {},
   "source": [
    "<strong>Summary</strong>\n",
    "\n",
    "Only one of my classification filters correctly classified both books. The other two classified both books as fiction and then both as nonfiction. \n",
    "\n",
    "Although my chosen classification methods didn't work very well, I found the exercise overall to be instructive. First, I can see how, despite a programmer's attempts to equip a machine learning algorithm with loads of nuanced data, the algorithm might pick up on something simple that works well most of the time, like just checking whether a book has \"ain't\" as a top 30 most frequent word.\n",
    "\n",
    "Secondly, during the \"testing phase\" I discovered a problem with the data, which is that different books used different apostrophes, and that may have affected the top 30 most frequent word lists during the \"training phase\". This is a case where having development data, in addition to training and testing data, may have been helpful. Also, a more careful parsing of the training data might've yielded better results.\n",
    "\n",
    "In addition, having more data overall would've been helpful. A sample size of 10 books doesn't allow for much rigor in an investigation of statistical differences, but Twain simply didn't write very many long fiction books. (Much of his writings were short stories and essays.) A lack of data is not an uncommon issue in language processing tasks, though.\n",
    "\n",
    "Finally, it didn't make matters any easier that Twain was known to use artistic license in his \"nonfiction\" works, so from the outset the two classes of books are not as distinct as one might expect. It likely would've been easier to classify books as Twain versus not-Twain, but I was more interested in tackling a more subtle difference. (And I followed the homework instructions in choosing a problem that strongly engaged my curiousity.) \n",
    "\n",
    "Finally I found the exploration with NLTK to be interesting and fun. It's a very convenient and easy Library to use."
   ]
  },
  {
   "cell_type": "code",
   "execution_count": null,
   "id": "5f6b18a1",
   "metadata": {},
   "outputs": [],
   "source": []
  }
 ],
 "metadata": {
  "kernelspec": {
   "display_name": "Python 3 (ipykernel)",
   "language": "python",
   "name": "python3"
  },
  "language_info": {
   "codemirror_mode": {
    "name": "ipython",
    "version": 3
   },
   "file_extension": ".py",
   "mimetype": "text/x-python",
   "name": "python",
   "nbconvert_exporter": "python",
   "pygments_lexer": "ipython3",
   "version": "3.11.3"
  }
 },
 "nbformat": 4,
 "nbformat_minor": 5
}
