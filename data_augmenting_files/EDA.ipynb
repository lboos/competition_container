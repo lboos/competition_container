{
 "cells": [
  {
   "cell_type": "markdown",
   "id": "6d42533c",
   "metadata": {},
   "source": [
    "# Comparing stop words and tokens in snippets\n",
    "\n",
    "Lynette Boos"
   ]
  },
  {
   "cell_type": "code",
   "execution_count": 1,
   "id": "078c41a4",
   "metadata": {},
   "outputs": [],
   "source": [
    "import nltk\n",
    "from nltk.corpus import treebank\n",
    "from statistics import mean\n",
    "\n",
    "from nltk.corpus import stopwords\n",
    "import string\n",
    "import matplotlib.pyplot as plt\n",
    "from collections import Counter\n",
    "from math import log, log10\n",
    "import csv"
   ]
  },
  {
   "cell_type": "code",
   "execution_count": 25,
   "id": "b7fae1e3",
   "metadata": {},
   "outputs": [
    {
     "name": "stdout",
     "output_type": "stream",
     "text": [
      "len diff: 1245\n",
      "len same: 356\n"
     ]
    }
   ],
   "source": [
    "def read_csvtagged(csvtagged_path: str):\n",
    "    \"\"\"\n",
    "    Reads rows from a csv .tagged file.\n",
    "    Each row consists of 3 columns of information:\n",
    "\n",
    "    COLUMN\tDESCRIPTION\n",
    "    ID\tUnique ID for this datapoint\n",
    "    TEXT\tTwo snippets of text separated by [SNIPPET]\n",
    "    LABEL\tThe label for this datapoint (see below)\n",
    "\n",
    "    The labels are:\n",
    "    0\tNot the same author\n",
    "    1\tSame author\n",
    "    \"\"\"\n",
    "    rows = []\n",
    "    with open(csvtagged_path, newline='') as csvfile:\n",
    "        reader = csv.reader(csvfile)\n",
    "        for row in reader:\n",
    "            rows.append((row[0], row[1], row[2],row[3]))\n",
    "    return rows\n",
    "\n",
    "everything = read_csvtagged('/Users/lynette/Desktop/Ling-582/Class_Competition/train_split_sorted.csv')[1:]\n",
    "\n",
    "diff = everything[:1245]\n",
    "same = everything[1245:]\n",
    "print(f\"len diff: {len(diff)}\")\n",
    "print(f\"len same: {len(same)}\")\n",
    "\n",
    "diffa = [text for _,text,_,_ in diff]\n",
    "diffb = [text for _,_,text,_ in diff]\n",
    "samea = [text for _,text,_,_ in same]\n",
    "sameb = [text for _,_,text,_ in same]\n",
    "# print(len(diffa))"
   ]
  },
  {
   "cell_type": "markdown",
   "id": "e9b0f89a",
   "metadata": {},
   "source": [
    "## Difference in variety of tokens used"
   ]
  },
  {
   "cell_type": "code",
   "execution_count": 57,
   "id": "f122d374",
   "metadata": {},
   "outputs": [
    {
     "name": "stdout",
     "output_type": "stream",
     "text": [
      "mean difference in variety of tokens for different texts: 35.42168674698795\n",
      "mean difference in variety of tokens for same texts: 30.60674157303371\n",
      "33.01421416001083\n",
      "number of different texts with difference in variety of tokens higher than mean: 533\n",
      "number of same texts with difference in variety of tokens lower than mean: 234\n"
     ]
    }
   ],
   "source": [
    "diff_tok = [(set(nltk.word_tokenize(texta)), set(nltk.word_tokenize(textb))) for _,texta,textb,_ in diff]\n",
    "same_tok = [(set(nltk.word_tokenize(texta)), set(nltk.word_tokenize(textb))) for _,texta,textb,_ in same]\n",
    "\n",
    "diff_tok_variety_diff = [abs(len(toka)-len(tokb)) for toka,tokb in diff_tok]\n",
    "same_tok_variety_diff = [abs(len(toka)-len(tokb)) for toka,tokb in same_tok]\n",
    "freqMeanDiffTok = mean(diff_tok_variety_diff)\n",
    "freqMeanSameTok = mean(same_tok_variety_diff)\n",
    "print(f\"mean difference in variety of tokens for different texts: {freqMeanDiffTok}\")\n",
    "print(f\"mean difference in variety of tokens for same texts: {freqMeanSameTok}\")\n",
    "\n",
    "avg_diff = mean([freqMeanDiffTok,freqMeanSameTok])\n",
    "print(avg_diff)\n",
    "\n",
    "diff_counter = 0\n",
    "for row in diff_tok_variety_diff:\n",
    "    if abs(row) > avg_diff:\n",
    "        diff_counter+= 1\n",
    "print(f\"number of different texts with difference in variety of tokens higher than mean: {diff_counter}\")\n",
    "\n",
    "same_counter = 0\n",
    "for row in same_tok_variety_diff:\n",
    "    if abs(row) < avg_diff:\n",
    "        same_counter+= 1\n",
    "print(f\"number of same texts with difference in variety of tokens lower than mean: {same_counter}\")"
   ]
  },
  {
   "cell_type": "markdown",
   "id": "73aac3db",
   "metadata": {},
   "source": [
    "## Density of stop words"
   ]
  },
  {
   "cell_type": "code",
   "execution_count": 52,
   "id": "3069a22e",
   "metadata": {},
   "outputs": [],
   "source": [
    "diffa_stop = []\n",
    "for row in diffa:\n",
    "    row_stop = []\n",
    "    for word in row.lower().split():\n",
    "        if word in set(stopwords.words('english')):\n",
    "            row_stop.append(word)\n",
    "    diffa_stop.append(row_stop)\n",
    "# print(diffa_stop[:10])\n",
    "# print(f\"len of diffa_stop: {len(diffa_stop)}\")\n",
    "\n",
    "diffb_stop = []\n",
    "for row in diffb:\n",
    "    row_stop = []\n",
    "    for word in row.lower().split():\n",
    "        if word in set(stopwords.words('english')):\n",
    "            row_stop.append(word)\n",
    "    diffb_stop.append(row_stop)\n",
    "# print(diffb_stop[:10])\n",
    "# print(f\"len of diffa_stop: {len(diffa_stop)}\")\n",
    "\n",
    "samea_stop = []\n",
    "for row in samea:\n",
    "    row_stop = []\n",
    "    for word in row.lower().split():\n",
    "        if word in set(stopwords.words('english')):\n",
    "            row_stop.append(word)\n",
    "    samea_stop.append(row_stop)\n",
    "# print(diffa_stop[:10])\n",
    "# print(f\"len of diffa_stop: {len(diffa_stop)}\")\n",
    "\n",
    "sameb_stop = []\n",
    "for row in sameb:\n",
    "    row_stop = []\n",
    "    for word in row.lower().split():\n",
    "        if word in set(stopwords.words('english')):\n",
    "            row_stop.append(word)\n",
    "    sameb_stop.append(row_stop)\n",
    "# print(diffb_stop[:10])\n",
    "# print(f\"len of diffa_stop: {len(diffa_stop)}\")"
   ]
  },
  {
   "cell_type": "code",
   "execution_count": 55,
   "id": "4cb10cad",
   "metadata": {},
   "outputs": [
    {
     "name": "stdout",
     "output_type": "stream",
     "text": [
      "mean difference in variety of tokens for different texts: 0.07892826523979596\n",
      "mean difference in variety of tokens for same texts: 0.06025661241210909\n",
      "0.06959243882595252\n",
      "number of different texts with difference in variety of tokens higher than mean: 394\n",
      "number of same texts with difference in variety of tokens lower than mean: 270\n"
     ]
    }
   ],
   "source": [
    "diff_stop_density = []\n",
    "same_stop_density = []\n",
    "\n",
    "for i in range(len(diff)):\n",
    "    diff_stop_density.append((len(diffa_stop[i])/len(diffa[i]),len(diffb_stop[i])/len(diffa[i])))\n",
    "    \n",
    "for i in range(len(same)):\n",
    "    same_stop_density.append((len(samea_stop[i])/len(samea[i]),len(sameb_stop[i])/len(samea[i])))\n",
    "# print(same_stop_density[:10])\n",
    "\n",
    "diff_stop_diff = [abs(a-b) for a,b in diff_stop_density]\n",
    "same_stop_diff = [abs(a-b) for a,b in same_stop_density]\n",
    "freqMeanDiffDensity = mean(diff_stop_diff)\n",
    "freqMeanSameDensity = mean(same_stop_diff)\n",
    "print(f\"mean difference in density of stop words for different texts: {freqMeanDiffDensity}\")\n",
    "print(f\"mean difference in density of stop words for same texts: {freqMeanSameDensity}\")\n",
    "\n",
    "avg_diff = mean([freqMeanDiffDensity,freqMeanSameDensity])\n",
    "print(avg_diff)\n",
    "\n",
    "diff_counter = 0\n",
    "for row in diff_stop_diff:\n",
    "    if abs(row) > avg_diff:\n",
    "        diff_counter+= 1\n",
    "print(f\"number of different texts with density of stop words higher than mean: {diff_counter}\")\n",
    "\n",
    "same_counter = 0\n",
    "for row in same_stop_diff:\n",
    "    if abs(row) < avg_diff:\n",
    "        same_counter+= 1\n",
    "print(f\"number of same texts with density of stop words lower than mean: {same_counter}\")"
   ]
  },
  {
   "cell_type": "markdown",
   "id": "18bd60f4",
   "metadata": {},
   "source": [
    "## Difference in actual tokens used"
   ]
  },
  {
   "cell_type": "code",
   "execution_count": 28,
   "id": "8fdee104",
   "metadata": {},
   "outputs": [
    {
     "name": "stdout",
     "output_type": "stream",
     "text": [
      "mean difference in variety of tokens for different texts: 59.40803212851406\n",
      "mean difference in variety of tokens for same texts: 56.28651685393258\n",
      "57.84727449122332\n",
      "number of different texts with different tokens higher than mean: 541\n",
      "number of same texts with different tokens lower than mean: 224\n"
     ]
    }
   ],
   "source": [
    "diff_tok_variety_diff = [len(set(toka)-set(tokb)) for toka,tokb in diff_tok]\n",
    "same_tok_variety_diff = [len(set(toka)-set(tokb)) for toka,tokb in same_tok]\n",
    "freqMeanDiffTok = mean(diff_tok_variety_diff)\n",
    "freqMeanSameTok = mean(same_tok_variety_diff)\n",
    "print(f\"mean difference in variety of tokens for different texts: {freqMeanDiffTok}\")\n",
    "print(f\"mean difference in variety of tokens for same texts: {freqMeanSameTok}\")\n",
    "\n",
    "avg_diff = mean([freqMeanDiffTok,freqMeanSameTok])\n",
    "print(avg_diff)\n",
    "\n",
    "diff_counter = 0\n",
    "for row in diff_tok_variety_diff:\n",
    "    if abs(row) > avg_diff:\n",
    "        diff_counter+= 1\n",
    "print(f\"number of different texts with different tokens higher than mean: {diff_counter}\")\n",
    "\n",
    "same_counter = 0\n",
    "for row in same_tok_variety_diff:\n",
    "    if abs(row) < avg_diff:\n",
    "        same_counter+= 1\n",
    "print(f\"number of same texts with different tokens lower than mean: {same_counter}\")"
   ]
  },
  {
   "cell_type": "code",
   "execution_count": null,
   "id": "5f6b18a1",
   "metadata": {},
   "outputs": [],
   "source": []
  }
 ],
 "metadata": {
  "kernelspec": {
   "display_name": "Python 3 (ipykernel)",
   "language": "python",
   "name": "python3"
  },
  "language_info": {
   "codemirror_mode": {
    "name": "ipython",
    "version": 3
   },
   "file_extension": ".py",
   "mimetype": "text/x-python",
   "name": "python",
   "nbconvert_exporter": "python",
   "pygments_lexer": "ipython3",
   "version": "3.11.3"
  }
 },
 "nbformat": 4,
 "nbformat_minor": 5
}
